{
 "cells": [
  {
   "cell_type": "code",
   "execution_count": 2,
   "metadata": {},
   "outputs": [
    {
     "name": "stderr",
     "output_type": "stream",
     "text": [
      "/var/folders/pl/s_5hhj0j79d74d1wvsft1dt40000gn/T/ipykernel_21789/757979039.py:6: ParserWarning: Skipping line 408163: expected 16 fields, saw 17\n",
      "Skipping line 417837: expected 16 fields, saw 17\n",
      "Skipping line 421291: expected 16 fields, saw 17\n",
      "Skipping line 424163: expected 16 fields, saw 17\n",
      "\n",
      "  df = pd.read_csv(\"car_prices.csv\", on_bad_lines = \"warn\")\n",
      "/var/folders/pl/s_5hhj0j79d74d1wvsft1dt40000gn/T/ipykernel_21789/757979039.py:6: ParserWarning: Skipping line 427042: expected 16 fields, saw 17\n",
      "Skipping line 427045: expected 16 fields, saw 17\n",
      "Skipping line 434426: expected 16 fields, saw 17\n",
      "Skipping line 444503: expected 16 fields, saw 17\n",
      "Skipping line 453796: expected 16 fields, saw 17\n",
      "\n",
      "  df = pd.read_csv(\"car_prices.csv\", on_bad_lines = \"warn\")\n",
      "/var/folders/pl/s_5hhj0j79d74d1wvsft1dt40000gn/T/ipykernel_21789/757979039.py:6: ParserWarning: Skipping line 461599: expected 16 fields, saw 17\n",
      "Skipping line 461614: expected 16 fields, saw 17\n",
      "\n",
      "  df = pd.read_csv(\"car_prices.csv\", on_bad_lines = \"warn\")\n",
      "/var/folders/pl/s_5hhj0j79d74d1wvsft1dt40000gn/T/ipykernel_21789/757979039.py:6: ParserWarning: Skipping line 492486: expected 16 fields, saw 17\n",
      "Skipping line 497010: expected 16 fields, saw 17\n",
      "Skipping line 497013: expected 16 fields, saw 17\n",
      "Skipping line 499085: expected 16 fields, saw 17\n",
      "Skipping line 501457: expected 16 fields, saw 17\n",
      "Skipping line 505301: expected 16 fields, saw 17\n",
      "Skipping line 505308: expected 16 fields, saw 17\n",
      "Skipping line 520463: expected 16 fields, saw 17\n",
      "\n",
      "  df = pd.read_csv(\"car_prices.csv\", on_bad_lines = \"warn\")\n",
      "/var/folders/pl/s_5hhj0j79d74d1wvsft1dt40000gn/T/ipykernel_21789/757979039.py:6: ParserWarning: Skipping line 528998: expected 16 fields, saw 17\n",
      "Skipping line 529011: expected 16 fields, saw 17\n",
      "Skipping line 529015: expected 16 fields, saw 17\n",
      "Skipping line 529624: expected 16 fields, saw 17\n",
      "Skipping line 548786: expected 16 fields, saw 17\n",
      "Skipping line 551224: expected 16 fields, saw 17\n",
      "Skipping line 554712: expected 16 fields, saw 17\n",
      "\n",
      "  df = pd.read_csv(\"car_prices.csv\", on_bad_lines = \"warn\")\n"
     ]
    }
   ],
   "source": [
    "import streamlit as st\n",
    "import pandas as pd\n",
    "import seaborn as sns\n",
    "import matplotlib.pyplot as plt\n",
    "\n",
    "df = pd.read_csv(\"car_prices.csv\", on_bad_lines = \"warn\")"
   ]
  },
  {
   "cell_type": "code",
   "execution_count": null,
   "metadata": {},
   "outputs": [],
   "source": [
    "def plot_lines(x_input, y_input):\n",
    "    fig = plt.figure(figsize = (10, 4))\n",
    "    sns.lineplot(data = df, x = x_input, y = y_input)\n",
    "    st.pyplot(fig)"
   ]
  },
  {
   "cell_type": "code",
   "execution_count": 3,
   "metadata": {},
   "outputs": [
    {
     "data": {
      "text/plain": [
       "(558811, 16)"
      ]
     },
     "execution_count": 3,
     "metadata": {},
     "output_type": "execute_result"
    }
   ],
   "source": [
    "df.dropna()\n",
    "df.shape"
   ]
  },
  {
   "cell_type": "code",
   "execution_count": 6,
   "metadata": {},
   "outputs": [
    {
     "data": {
      "text/plain": [
       "<Axes: xlabel='year', ylabel='condition'>"
      ]
     },
     "execution_count": 6,
     "metadata": {},
     "output_type": "execute_result"
    }
   ],
   "source": [
    "sns.lineplot(data = df, x = 'year', y = 'condition')"
   ]
  }
 ],
 "metadata": {
  "kernelspec": {
   "display_name": "Python 3.9.13 ('environment': venv)",
   "language": "python",
   "name": "python3"
  },
  "language_info": {
   "codemirror_mode": {
    "name": "ipython",
    "version": 3
   },
   "file_extension": ".py",
   "mimetype": "text/x-python",
   "name": "python",
   "nbconvert_exporter": "python",
   "pygments_lexer": "ipython3",
   "version": "3.9.13"
  },
  "orig_nbformat": 4,
  "vscode": {
   "interpreter": {
    "hash": "a8d08c8169f888ef61b2c6c6b5218eecb0875ed7b82022c873c4ebebfbe37e35"
   }
  }
 },
 "nbformat": 4,
 "nbformat_minor": 2
}
